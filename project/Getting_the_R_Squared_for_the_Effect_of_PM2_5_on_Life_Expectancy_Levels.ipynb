{
  "nbformat": 4,
  "nbformat_minor": 0,
  "metadata": {
    "colab": {
      "provenance": []
    },
    "kernelspec": {
      "name": "python3",
      "display_name": "Python 3"
    },
    "language_info": {
      "name": "python"
    }
  },
  "cells": [
    {
      "cell_type": "markdown",
      "source": [
        "# Getting the R-Squared for the Effect of PM2.5 on Life Expectancy Levels"
      ],
      "metadata": {
        "id": "g45ViG16t7ya"
      }
    },
    {
      "cell_type": "code",
      "execution_count": 2,
      "metadata": {
        "colab": {
          "base_uri": "https://localhost:8080/"
        },
        "id": "wlVzMbM9srpO",
        "outputId": "c4715aab-6927-44e8-8beb-30d8cdb0dae2"
      },
      "outputs": [
        {
          "output_type": "stream",
          "name": "stdout",
          "text": [
            "The R-squared value is: 0.4000\n"
          ]
        }
      ],
      "source": [
        "import pandas as pd\n",
        "from sklearn.linear_model import LinearRegression\n",
        "from sklearn.metrics import r2_score\n",
        "\n",
        "# Load the dataset\n",
        "url = \"https://raw.githubusercontent.com/shannanliew/shannanliew.github.io/refs/heads/main/project/merged_life_expectancy_pm25.csv\"\n",
        "data = pd.read_csv(url)\n",
        "\n",
        "# Prepare data for regression\n",
        "X = data[['average_pm25']]  # Independent variable\n",
        "y = data['life_expectancy_0__sex_all__age_0']  # Dependent variable\n",
        "\n",
        "# Fit a linear regression model\n",
        "model = LinearRegression()\n",
        "model.fit(X, y)\n",
        "\n",
        "# Predict and calculate R^2\n",
        "y_pred = model.predict(X)\n",
        "r_squared = r2_score(y, y_pred)\n",
        "\n",
        "print(f\"The R-squared value is: {r_squared:.4f}\")"
      ]
    }
  ]
}